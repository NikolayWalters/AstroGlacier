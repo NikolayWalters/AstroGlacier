{
 "cells": [
  {
   "cell_type": "code",
   "execution_count": 1,
   "metadata": {},
   "outputs": [],
   "source": [
    "from __future__ import division\n",
    "import pandas as pd\n",
    "import numpy as np\n",
    "from numpy import random\n",
    "from scipy.spatial.distance import pdist, cdist\n",
    "from scipy.stats import kstwobign, pearsonr\n",
    "from scipy.stats import genextreme\n",
    "import matplotlib.pyplot as plt"
   ]
  },
  {
   "cell_type": "code",
   "execution_count": 2,
   "metadata": {},
   "outputs": [],
   "source": [
    "HRDF = pd.read_csv('forHR.tsv',sep='\\t',header=None)\n",
    "\n",
    "#'umag','sgmag','srmag','simag','szmag','prob','teff','logh','mass','teff2','logh2','mass2','rai','dei'\n",
    "HRDF[10].replace('         ', np.nan, inplace=True)\n",
    "HRDF[11].replace('         ', np.nan, inplace=True)\n",
    "HRDF[12].replace('         ', np.nan, inplace=True)\n",
    "HRDF[7].replace('         ', np.nan, inplace=True)\n",
    "HRDF = HRDF[HRDF[10].notna()]\n",
    "HRDF = HRDF[HRDF[11].notna()]\n",
    "HRDF = HRDF[HRDF[12].notna()]\n",
    "HRDF = HRDF[HRDF[7].notna()]\n",
    "gmag = HRDF[10].to_numpy()\n",
    "bpmag = HRDF[11].to_numpy()\n",
    "rpmag = HRDF[12].to_numpy()\n",
    "parallax = HRDF[7].to_numpy()\n",
    "#JJTimes = (JJDF['Time'].to_numpy()/60/60/24)+2459076.6992445\n",
    "#print(JJDF)"
   ]
  },
  {
   "cell_type": "code",
   "execution_count": 3,
   "metadata": {},
   "outputs": [],
   "source": [
    "gmag = gmag + 5*(np.log10(parallax/1000)+1)\n"
   ]
  },
  {
   "cell_type": "code",
   "execution_count": 4,
   "metadata": {},
   "outputs": [],
   "source": [
    "wd1219GMAG = 17.561228 + 5*(np.log10(14.2774/1000)+1)\n",
    "wd1252GMAG = 17.477457+ 5*(np.log10(12.9437/1000)+1)"
   ]
  },
  {
   "cell_type": "code",
   "execution_count": 5,
   "metadata": {},
   "outputs": [],
   "source": [
    "specialStarsy = np.array([13.46,wd1252GMAG,wd1219GMAG,13.10]) # gd, j1252,1219,04\n",
    "specialStarsx = np.array([0.388,17.582787-17.189125,17.673635-17.231398,0.287])\n",
    "\n",
    "popx = bpmag-rpmag\n",
    "popy = gmag"
   ]
  },
  {
   "cell_type": "code",
   "execution_count": 6,
   "metadata": {},
   "outputs": [],
   "source": [
    "def ks2d2s(x1, y1, x2, y2, nboot=None, extra=False):\n",
    "    '''Two-dimensional Kolmogorov-Smirnov test on two samples. \n",
    "    Parameters\n",
    "    ----------\n",
    "    x1, y1 : ndarray, shape (n1, )\n",
    "        Data of sample 1.\n",
    "    x2, y2 : ndarray, shape (n2, )\n",
    "        Data of sample 2. Size of two samples can be different.\n",
    "    extra: bool, optional\n",
    "        If True, KS statistic is also returned. Default is False.\n",
    "    Returns\n",
    "    -------\n",
    "    p : float\n",
    "        Two-tailed p-value.\n",
    "    D : float, optional\n",
    "        KS statistic. Returned if keyword `extra` is True.\n",
    "    Notes\n",
    "    -----\n",
    "    This is the two-sided K-S test. Small p-values means that the two samples are significantly different. Note that the p-value is only an approximation as the analytic distribution is unkonwn. The approximation is accurate enough when N > ~20 and p-value < ~0.20 or so. When p-value > 0.20, the value may not be accurate, but it certainly implies that the two samples are not significantly different. (cf. Press 2007)\n",
    "    References\n",
    "    ----------\n",
    "    Peacock, J.A. 1983, Two-Dimensional Goodness-of-Fit Testing in Astronomy, Monthly Notices of the Royal Astronomical Society, vol. 202, pp. 615-627\n",
    "    Fasano, G. and Franceschini, A. 1987, A Multidimensional Version of the Kolmogorov-Smirnov Test, Monthly Notices of the Royal Astronomical Society, vol. 225, pp. 155-170\n",
    "    Press, W.H. et al. 2007, Numerical Recipes, section 14.8\n",
    "    '''\n",
    "    assert (len(x1) == len(y1)) and (len(x2) == len(y2))\n",
    "    n1, n2 = len(x1), len(x2)\n",
    "    D = avgmaxdist(x1, y1, x2, y2)\n",
    "\n",
    "    if nboot is None:\n",
    "        sqen = np.sqrt(n1 * n2 / (n1 + n2))\n",
    "        r1 = pearsonr(x1, y1)[0]\n",
    "        r2 = pearsonr(x2, y2)[0]\n",
    "        r = np.sqrt(1 - 0.5 * (r1**2 + r2**2))\n",
    "        d = D * sqen / (1 + r * (0.25 - 0.75 / sqen))\n",
    "        p = kstwobign.sf(d)\n",
    "    else:\n",
    "        n = n1 + n2\n",
    "        x = np.concatenate([x1, x2])\n",
    "        y = np.concatenate([y1, y2])\n",
    "        d = np.empty(nboot, 'f')\n",
    "        for i in range(nboot):\n",
    "            idx = random.choice(n, n, replace=True)\n",
    "            ix1, ix2 = idx[:n1], idx[n1:]\n",
    "            #ix1 = random.choice(n, n1, replace=True)\n",
    "            #ix2 = random.choice(n, n2, replace=True)\n",
    "            d[i] = avgmaxdist(x[ix1], y[ix1], x[ix2], y[ix2])\n",
    "        p = np.sum(d > D).astype('f') / nboot\n",
    "    if extra:\n",
    "        return p, D\n",
    "    else:\n",
    "        return p"
   ]
  },
  {
   "cell_type": "code",
   "execution_count": 7,
   "metadata": {},
   "outputs": [],
   "source": [
    "def avgmaxdist(x1, y1, x2, y2):\n",
    "    D1 = maxdist(x1, y1, x2, y2)\n",
    "    D2 = maxdist(x2, y2, x1, y1)\n",
    "    return (D1 + D2) / 2\n",
    "\n",
    "\n",
    "def maxdist(x1, y1, x2, y2):\n",
    "    n1 = len(x1)\n",
    "    D1 = np.empty((n1, 4))\n",
    "    for i in range(n1):\n",
    "        a1, b1, c1, d1 = quadct(x1[i], y1[i], x1, y1)\n",
    "        a2, b2, c2, d2 = quadct(x1[i], y1[i], x2, y2)\n",
    "        D1[i] = [a1 - a2, b1 - b2, c1 - c2, d1 - d2]\n",
    "\n",
    "    # re-assign the point to maximize difference,\n",
    "    # the discrepancy is significant for N < ~50\n",
    "    D1[:, 0] -= 1 / n1\n",
    "\n",
    "    dmin, dmax = -D1.min(), D1.max() + 1 / n1\n",
    "    return max(dmin, dmax)\n",
    "\n",
    "\n",
    "def quadct(x, y, xx, yy):\n",
    "    n = len(xx)\n",
    "    ix1, ix2 = xx <= x, yy <= y\n",
    "    a = np.sum(ix1 & ix2) / n\n",
    "    b = np.sum(ix1 & ~ix2) / n\n",
    "    c = np.sum(~ix1 & ix2) / n\n",
    "    d = 1 - a - b - c\n",
    "    return a, b, c, d"
   ]
  },
  {
   "cell_type": "code",
   "execution_count": 8,
   "metadata": {},
   "outputs": [],
   "source": [
    "def estat2d(x1, y1, x2, y2, **kwds):\n",
    "    return estat(np.c_[x1, y1], np.c_[x2, y2], **kwds)\n",
    "\n",
    "\n",
    "def estat(x, y, nboot=1000, replace=False, method='log', fitting=False):\n",
    "    '''\n",
    "    Energy distance statistics test.\n",
    "    Reference\n",
    "    ---------\n",
    "    Aslan, B, Zech, G (2005) Statistical energy as a tool for binning-free\n",
    "      multivariate goodness-of-fit tests, two-sample comparison and unfolding.\n",
    "      Nuc Instr and Meth in Phys Res A 537: 626-636\n",
    "    Szekely, G, Rizzo, M (2014) Energy statistics: A class of statistics\n",
    "      based on distances. J Stat Planning & Infer 143: 1249-1272\n",
    "    Brian Lau, multdist, https://github.com/brian-lau/multdist\n",
    "    '''\n",
    "    n, N = len(x), len(x) + len(y)\n",
    "    stack = np.vstack([x, y])\n",
    "    stack = (stack - stack.mean(0)) / stack.std(0)\n",
    "    if replace:\n",
    "        rand = lambda x: random.randint(x, size=x)\n",
    "    else:\n",
    "        rand = random.permutation\n",
    "\n",
    "    en = energy(stack[:n], stack[n:], method)\n",
    "    en_boot = np.zeros(nboot, 'f')\n",
    "    for i in range(nboot):\n",
    "        idx = rand(N)\n",
    "        en_boot[i] = energy(stack[idx[:n]], stack[idx[n:]], method)\n",
    "\n",
    "    if fitting:\n",
    "        param = genextreme.fit(en_boot)\n",
    "        p = genextreme.sf(en, *param)\n",
    "        return p, en, param\n",
    "    else:\n",
    "        p = (en_boot >= en).sum() / nboot\n",
    "        return p, en, en_boot"
   ]
  },
  {
   "cell_type": "code",
   "execution_count": 9,
   "metadata": {},
   "outputs": [],
   "source": [
    "def energy(x, y, method='log'):\n",
    "    dx, dy, dxy = pdist(x), pdist(y), cdist(x, y)\n",
    "    n, m = len(x), len(y)\n",
    "    if method == 'log':\n",
    "        dx, dy, dxy = np.log(dx), np.log(dy), np.log(dxy)\n",
    "    elif method == 'gaussian':\n",
    "        raise NotImplementedError\n",
    "    elif method == 'linear':\n",
    "        pass\n",
    "    else:\n",
    "        raise ValueError\n",
    "    z = dxy.sum() / (n * m) - dx.sum() / n**2 - dy.sum() / m**2\n",
    "    # z = ((n*m)/(n+m)) * z # ref. SR\n",
    "    return z"
   ]
  },
  {
   "cell_type": "code",
   "execution_count": 12,
   "metadata": {},
   "outputs": [
    {
     "data": {
      "text/plain": [
       "(0.00341473730148067, 0.8100488893612499)"
      ]
     },
     "execution_count": 12,
     "metadata": {},
     "output_type": "execute_result"
    }
   ],
   "source": [
    "ks2d2s(specialStarsx, specialStarsy, popx,popy,extra=True)"
   ]
  },
  {
   "cell_type": "code",
   "execution_count": 24,
   "metadata": {},
   "outputs": [
    {
     "data": {
      "text/plain": [
       "(0.00341473730148067, 0.8100488893612499)"
      ]
     },
     "execution_count": 24,
     "metadata": {},
     "output_type": "execute_result"
    }
   ],
   "source": [
    "ks2d2s(popx,popy,specialStarsx, specialStarsy,extra=True)"
   ]
  },
  {
   "cell_type": "code",
   "execution_count": 13,
   "metadata": {},
   "outputs": [
    {
     "data": {
      "text/plain": [
       "(0.00011023600111481841, 0.24898288872356247)"
      ]
     },
     "execution_count": 13,
     "metadata": {},
     "output_type": "execute_result"
    }
   ],
   "source": [
    "ks2d2s(popx[:100], popy[:100], popx,popy,extra=True)"
   ]
  },
  {
   "cell_type": "code",
   "execution_count": 14,
   "metadata": {},
   "outputs": [
    {
     "data": {
      "text/plain": [
       "(0.20135043069081018, 0.3417260070145605)"
      ]
     },
     "execution_count": 14,
     "metadata": {},
     "output_type": "execute_result"
    }
   ],
   "source": [
    "ks2d2s(popx[:10], popy[:10], popx,popy,extra=True)"
   ]
  },
  {
   "cell_type": "code",
   "execution_count": 15,
   "metadata": {},
   "outputs": [
    {
     "data": {
      "text/plain": [
       "(3.1912927284601143e-91, 0.3773836752045914)"
      ]
     },
     "execution_count": 15,
     "metadata": {},
     "output_type": "execute_result"
    }
   ],
   "source": [
    "ks2d2s(popx[:1000], popy[:1000], popx,popy,extra=True)"
   ]
  },
  {
   "cell_type": "code",
   "execution_count": 16,
   "metadata": {},
   "outputs": [
    {
     "data": {
      "text/plain": [
       "(0.5473243766912361, 0.3426772239345308)"
      ]
     },
     "execution_count": 16,
     "metadata": {},
     "output_type": "execute_result"
    }
   ],
   "source": [
    "ks2d2s(popx[:5], popy[:5], popx,popy,extra=True)"
   ]
  },
  {
   "cell_type": "code",
   "execution_count": 17,
   "metadata": {},
   "outputs": [
    {
     "data": {
      "text/plain": [
       "(1.6753829437898833e-49, 0.39047061324264004)"
      ]
     },
     "execution_count": 17,
     "metadata": {},
     "output_type": "execute_result"
    }
   ],
   "source": [
    "ks2d2s(popx[:500], popy[:500], popx,popy,extra=True)"
   ]
  },
  {
   "cell_type": "code",
   "execution_count": 18,
   "metadata": {},
   "outputs": [
    {
     "name": "stderr",
     "output_type": "stream",
     "text": [
      "D:\\conda\\lib\\site-packages\\ipykernel_launcher.py:5: RuntimeWarning: divide by zero encountered in log\n",
      "  \"\"\"\n"
     ]
    },
    {
     "ename": "KeyboardInterrupt",
     "evalue": "",
     "output_type": "error",
     "traceback": [
      "\u001b[1;31m---------------------------------------------------------------------------\u001b[0m",
      "\u001b[1;31mKeyboardInterrupt\u001b[0m                         Traceback (most recent call last)",
      "\u001b[1;32m<ipython-input-18-6d0a788d478b>\u001b[0m in \u001b[0;36m<module>\u001b[1;34m\u001b[0m\n\u001b[1;32m----> 1\u001b[1;33m \u001b[0mestat2d\u001b[0m\u001b[1;33m(\u001b[0m\u001b[0mspecialStarsx\u001b[0m\u001b[1;33m,\u001b[0m \u001b[0mspecialStarsy\u001b[0m\u001b[1;33m,\u001b[0m \u001b[0mpopx\u001b[0m\u001b[1;33m,\u001b[0m\u001b[0mpopy\u001b[0m\u001b[1;33m)\u001b[0m\u001b[1;33m\u001b[0m\u001b[1;33m\u001b[0m\u001b[0m\n\u001b[0m",
      "\u001b[1;32m<ipython-input-10-0f660994e12b>\u001b[0m in \u001b[0;36mestat2d\u001b[1;34m(x1, y1, x2, y2, **kwds)\u001b[0m\n\u001b[0;32m      1\u001b[0m \u001b[1;32mdef\u001b[0m \u001b[0mestat2d\u001b[0m\u001b[1;33m(\u001b[0m\u001b[0mx1\u001b[0m\u001b[1;33m,\u001b[0m \u001b[0my1\u001b[0m\u001b[1;33m,\u001b[0m \u001b[0mx2\u001b[0m\u001b[1;33m,\u001b[0m \u001b[0my2\u001b[0m\u001b[1;33m,\u001b[0m \u001b[1;33m**\u001b[0m\u001b[0mkwds\u001b[0m\u001b[1;33m)\u001b[0m\u001b[1;33m:\u001b[0m\u001b[1;33m\u001b[0m\u001b[1;33m\u001b[0m\u001b[0m\n\u001b[1;32m----> 2\u001b[1;33m     \u001b[1;32mreturn\u001b[0m \u001b[0mestat\u001b[0m\u001b[1;33m(\u001b[0m\u001b[0mnp\u001b[0m\u001b[1;33m.\u001b[0m\u001b[0mc_\u001b[0m\u001b[1;33m[\u001b[0m\u001b[0mx1\u001b[0m\u001b[1;33m,\u001b[0m \u001b[0my1\u001b[0m\u001b[1;33m]\u001b[0m\u001b[1;33m,\u001b[0m \u001b[0mnp\u001b[0m\u001b[1;33m.\u001b[0m\u001b[0mc_\u001b[0m\u001b[1;33m[\u001b[0m\u001b[0mx2\u001b[0m\u001b[1;33m,\u001b[0m \u001b[0my2\u001b[0m\u001b[1;33m]\u001b[0m\u001b[1;33m,\u001b[0m \u001b[1;33m**\u001b[0m\u001b[0mkwds\u001b[0m\u001b[1;33m)\u001b[0m\u001b[1;33m\u001b[0m\u001b[1;33m\u001b[0m\u001b[0m\n\u001b[0m\u001b[0;32m      3\u001b[0m \u001b[1;33m\u001b[0m\u001b[0m\n\u001b[0;32m      4\u001b[0m \u001b[1;33m\u001b[0m\u001b[0m\n\u001b[0;32m      5\u001b[0m \u001b[1;32mdef\u001b[0m \u001b[0mestat\u001b[0m\u001b[1;33m(\u001b[0m\u001b[0mx\u001b[0m\u001b[1;33m,\u001b[0m \u001b[0my\u001b[0m\u001b[1;33m,\u001b[0m \u001b[0mnboot\u001b[0m\u001b[1;33m=\u001b[0m\u001b[1;36m1000\u001b[0m\u001b[1;33m,\u001b[0m \u001b[0mreplace\u001b[0m\u001b[1;33m=\u001b[0m\u001b[1;32mFalse\u001b[0m\u001b[1;33m,\u001b[0m \u001b[0mmethod\u001b[0m\u001b[1;33m=\u001b[0m\u001b[1;34m'log'\u001b[0m\u001b[1;33m,\u001b[0m \u001b[0mfitting\u001b[0m\u001b[1;33m=\u001b[0m\u001b[1;32mFalse\u001b[0m\u001b[1;33m)\u001b[0m\u001b[1;33m:\u001b[0m\u001b[1;33m\u001b[0m\u001b[1;33m\u001b[0m\u001b[0m\n",
      "\u001b[1;32m<ipython-input-10-0f660994e12b>\u001b[0m in \u001b[0;36mestat\u001b[1;34m(x, y, nboot, replace, method, fitting)\u001b[0m\n\u001b[0;32m     27\u001b[0m     \u001b[1;32mfor\u001b[0m \u001b[0mi\u001b[0m \u001b[1;32min\u001b[0m \u001b[0mrange\u001b[0m\u001b[1;33m(\u001b[0m\u001b[0mnboot\u001b[0m\u001b[1;33m)\u001b[0m\u001b[1;33m:\u001b[0m\u001b[1;33m\u001b[0m\u001b[1;33m\u001b[0m\u001b[0m\n\u001b[0;32m     28\u001b[0m         \u001b[0midx\u001b[0m \u001b[1;33m=\u001b[0m \u001b[0mrand\u001b[0m\u001b[1;33m(\u001b[0m\u001b[0mN\u001b[0m\u001b[1;33m)\u001b[0m\u001b[1;33m\u001b[0m\u001b[1;33m\u001b[0m\u001b[0m\n\u001b[1;32m---> 29\u001b[1;33m         \u001b[0men_boot\u001b[0m\u001b[1;33m[\u001b[0m\u001b[0mi\u001b[0m\u001b[1;33m]\u001b[0m \u001b[1;33m=\u001b[0m \u001b[0menergy\u001b[0m\u001b[1;33m(\u001b[0m\u001b[0mstack\u001b[0m\u001b[1;33m[\u001b[0m\u001b[0midx\u001b[0m\u001b[1;33m[\u001b[0m\u001b[1;33m:\u001b[0m\u001b[0mn\u001b[0m\u001b[1;33m]\u001b[0m\u001b[1;33m]\u001b[0m\u001b[1;33m,\u001b[0m \u001b[0mstack\u001b[0m\u001b[1;33m[\u001b[0m\u001b[0midx\u001b[0m\u001b[1;33m[\u001b[0m\u001b[0mn\u001b[0m\u001b[1;33m:\u001b[0m\u001b[1;33m]\u001b[0m\u001b[1;33m]\u001b[0m\u001b[1;33m,\u001b[0m \u001b[0mmethod\u001b[0m\u001b[1;33m)\u001b[0m\u001b[1;33m\u001b[0m\u001b[1;33m\u001b[0m\u001b[0m\n\u001b[0m\u001b[0;32m     30\u001b[0m \u001b[1;33m\u001b[0m\u001b[0m\n\u001b[0;32m     31\u001b[0m     \u001b[1;32mif\u001b[0m \u001b[0mfitting\u001b[0m\u001b[1;33m:\u001b[0m\u001b[1;33m\u001b[0m\u001b[1;33m\u001b[0m\u001b[0m\n",
      "\u001b[1;32m<ipython-input-11-92fba0e2d4d3>\u001b[0m in \u001b[0;36menergy\u001b[1;34m(x, y, method)\u001b[0m\n\u001b[0;32m      3\u001b[0m     \u001b[0mn\u001b[0m\u001b[1;33m,\u001b[0m \u001b[0mm\u001b[0m \u001b[1;33m=\u001b[0m \u001b[0mlen\u001b[0m\u001b[1;33m(\u001b[0m\u001b[0mx\u001b[0m\u001b[1;33m)\u001b[0m\u001b[1;33m,\u001b[0m \u001b[0mlen\u001b[0m\u001b[1;33m(\u001b[0m\u001b[0my\u001b[0m\u001b[1;33m)\u001b[0m\u001b[1;33m\u001b[0m\u001b[1;33m\u001b[0m\u001b[0m\n\u001b[0;32m      4\u001b[0m     \u001b[1;32mif\u001b[0m \u001b[0mmethod\u001b[0m \u001b[1;33m==\u001b[0m \u001b[1;34m'log'\u001b[0m\u001b[1;33m:\u001b[0m\u001b[1;33m\u001b[0m\u001b[1;33m\u001b[0m\u001b[0m\n\u001b[1;32m----> 5\u001b[1;33m         \u001b[0mdx\u001b[0m\u001b[1;33m,\u001b[0m \u001b[0mdy\u001b[0m\u001b[1;33m,\u001b[0m \u001b[0mdxy\u001b[0m \u001b[1;33m=\u001b[0m \u001b[0mnp\u001b[0m\u001b[1;33m.\u001b[0m\u001b[0mlog\u001b[0m\u001b[1;33m(\u001b[0m\u001b[0mdx\u001b[0m\u001b[1;33m)\u001b[0m\u001b[1;33m,\u001b[0m \u001b[0mnp\u001b[0m\u001b[1;33m.\u001b[0m\u001b[0mlog\u001b[0m\u001b[1;33m(\u001b[0m\u001b[0mdy\u001b[0m\u001b[1;33m)\u001b[0m\u001b[1;33m,\u001b[0m \u001b[0mnp\u001b[0m\u001b[1;33m.\u001b[0m\u001b[0mlog\u001b[0m\u001b[1;33m(\u001b[0m\u001b[0mdxy\u001b[0m\u001b[1;33m)\u001b[0m\u001b[1;33m\u001b[0m\u001b[1;33m\u001b[0m\u001b[0m\n\u001b[0m\u001b[0;32m      6\u001b[0m     \u001b[1;32melif\u001b[0m \u001b[0mmethod\u001b[0m \u001b[1;33m==\u001b[0m \u001b[1;34m'gaussian'\u001b[0m\u001b[1;33m:\u001b[0m\u001b[1;33m\u001b[0m\u001b[1;33m\u001b[0m\u001b[0m\n\u001b[0;32m      7\u001b[0m         \u001b[1;32mraise\u001b[0m \u001b[0mNotImplementedError\u001b[0m\u001b[1;33m\u001b[0m\u001b[1;33m\u001b[0m\u001b[0m\n",
      "\u001b[1;31mKeyboardInterrupt\u001b[0m: "
     ]
    }
   ],
   "source": [
    "estat2d(specialStarsx, specialStarsy, popx,popy)"
   ]
  },
  {
   "cell_type": "code",
   "execution_count": 29,
   "metadata": {},
   "outputs": [
    {
     "data": {
      "text/plain": [
       "[<matplotlib.lines.Line2D at 0x18c5c076408>]"
      ]
     },
     "execution_count": 29,
     "metadata": {},
     "output_type": "execute_result"
    },
    {
     "data": {
      "image/png": "[encoded data removed]",
      "text/plain": [
       "<Figure size 720x720 with 1 Axes>"
      ]
     },
     "metadata": {
      "needs_background": "light"
     },
     "output_type": "display_data"
    }
   ],
   "source": [
    "plt.figure(figsize=(10,10))\n",
    "\n",
    "plt.plot(popx, popy,'kx')\n",
    "index = np.random.randint(low=0, high=len(popx), size=100)\n",
    "plt.plot(popx[index], popy[index],'rx')"
   ]
  },
  {
   "cell_type": "code",
   "execution_count": 32,
   "metadata": {},
   "outputs": [],
   "source": [
    "averagesM = []\n",
    "statisticM = []\n",
    "for i in range(100):\n",
    "    index = np.random.randint(low=0, high=len(popx), size=100)\n",
    "    avg, stat = ks2d2s(popx[index], popy[index], popx,popy,extra=True)\n",
    "    averagesM.append(avg)\n",
    "    statisticM.append(stat)"
   ]
  },
  {
   "cell_type": "code",
   "execution_count": 33,
   "metadata": {},
   "outputs": [
    {
     "data": {
      "text/plain": [
       "Text(0, 0.5, 'frequency')"
      ]
     },
     "execution_count": 33,
     "metadata": {},
     "output_type": "execute_result"
    },
    {
     "data": {
      "image/png": "[encoded data removed]",
      "text/plain": [
       "<Figure size 720x360 with 1 Axes>"
      ]
     },
     "metadata": {
      "needs_background": "light"
     },
     "output_type": "display_data"
    }
   ],
   "source": [
    "plt.figure(figsize=(10,5))\n",
    "plt.hist(averagesM, bins=75)\n",
    "plt.plot([0.00341473730148067,0.00341473730148067],[0,25])\n",
    "plt.xlabel('p-value')\n",
    "plt.ylabel('frequency')"
   ]
  },
  {
   "cell_type": "code",
   "execution_count": 34,
   "metadata": {},
   "outputs": [
    {
     "data": {
      "text/plain": [
       "Text(0.5, 0, 'statistic')"
      ]
     },
     "execution_count": 34,
     "metadata": {},
     "output_type": "execute_result"
    },
    {
     "data": {
      "image/png": "[encoded data removed]",
      "text/plain": [
       "<Figure size 720x360 with 1 Axes>"
      ]
     },
     "metadata": {
      "needs_background": "light"
     },
     "output_type": "display_data"
    }
   ],
   "source": [
    "plt.figure(figsize=(10,5))\n",
    "plt.hist(statisticM, bins=50)\n",
    "plt.plot([0.8100488893612499,0.8100488893612499],[0,35])\n",
    "plt.ylabel('frequency')\n",
    "plt.xlabel('statistic')"
   ]
  },
  {
   "cell_type": "code",
   "execution_count": 10,
   "metadata": {},
   "outputs": [],
   "source": [
    "averages = []\n",
    "statistic = []\n",
    "for i in range(500):\n",
    "    index = np.random.randint(low=0, high=len(popx), size=4)\n",
    "    avg, stat = ks2d2s(popx[index], popy[index], popx,popy,extra=True)\n",
    "    averages.append(avg)\n",
    "    statistic.append(stat)"
   ]
  },
  {
   "cell_type": "code",
   "execution_count": 31,
   "metadata": {},
   "outputs": [
    {
     "data": {
      "image/png": "[encoded data removed]",
      "text/plain": [
       "<Figure size 720x360 with 1 Axes>"
      ]
     },
     "metadata": {
      "needs_background": "light"
     },
     "output_type": "display_data"
    }
   ],
   "source": [
    "plt.figure(figsize=(10,5))\n",
    "plt.hist(averages, bins=75)\n",
    "plt.plot([0.00341473730148067,0.00341473730148067],[0,25])\n",
    "plt.xlabel('p-value')\n",
    "plt.ylabel('frequency')\n",
    "plt.savefig('pVal2DKS.pdf')"
   ]
  },
  {
   "cell_type": "code",
   "execution_count": 36,
   "metadata": {},
   "outputs": [
    {
     "name": "stdout",
     "output_type": "stream",
     "text": [
      "ay\n",
      "ay\n",
      "ay\n",
      "ay\n",
      "ay\n",
      "ay\n"
     ]
    }
   ],
   "source": [
    "for el in averages:\n",
    "    if el < 0.00341473730148067:\n",
    "        print('ay')"
   ]
  },
  {
   "cell_type": "code",
   "execution_count": 30,
   "metadata": {},
   "outputs": [
    {
     "data": {
      "image/png": "[encoded data removed]",
      "text/plain": [
       "<Figure size 720x360 with 1 Axes>"
      ]
     },
     "metadata": {
      "needs_background": "light"
     },
     "output_type": "display_data"
    }
   ],
   "source": [
    "plt.figure(figsize=(10,5))\n",
    "plt.hist(statistic, bins=50)\n",
    "plt.plot([0.8100488893612499,0.8100488893612499],[0,35])\n",
    "plt.ylabel('frequency')\n",
    "plt.xlabel('statistic')\n",
    "plt.savefig('Stat2DKS.pdf')"
   ]
  },
  {
   "cell_type": "code",
   "execution_count": 37,
   "metadata": {},
   "outputs": [],
   "source": [
    "np.save('statistic4.npy', statistic)\n",
    "np.save('averages4.npy', averages)\n",
    "np.save('statistic100.npy', statisticM)\n",
    "np.save('averages100.npy', averagesM)"
   ]
  },
  {
   "cell_type": "code",
   "execution_count": 20,
   "metadata": {},
   "outputs": [
    {
     "data": {
      "text/plain": [
       "(0.00037946569627792263, 0.9410404931448613)"
      ]
     },
     "execution_count": 20,
     "metadata": {},
     "output_type": "execute_result"
    }
   ],
   "source": [
    "ks2d2s(np.array([0,0.1,0.2,0.1]), np.array([8,8.1,7.9,8]), popx,popy,extra=True)"
   ]
  },
  {
   "cell_type": "code",
   "execution_count": 38,
   "metadata": {},
   "outputs": [
    {
     "data": {
      "text/plain": [
       "0.00388624847903559"
      ]
     },
     "execution_count": 38,
     "metadata": {},
     "output_type": "execute_result"
    }
   ],
   "source": [
    "min(averages)"
   ]
  },
  {
   "cell_type": "code",
   "execution_count": 44,
   "metadata": {},
   "outputs": [
    {
     "data": {
      "text/plain": [
       "(0.00341473730148067, 0.8100488893612499)"
      ]
     },
     "execution_count": 44,
     "metadata": {},
     "output_type": "execute_result"
    }
   ],
   "source": [
    "0.00341473730148067, 0.8100488893612499"
   ]
  },
  {
   "cell_type": "code",
   "execution_count": 46,
   "metadata": {},
   "outputs": [
    {
     "data": {
      "text/plain": [
       "[<matplotlib.lines.Line2D at 0x18c015e2048>]"
      ]
     },
     "execution_count": 46,
     "metadata": {},
     "output_type": "execute_result"
    },
    {
     "data": {
      "image/png": "[encoded data removed]",
      "text/plain": [
       "<Figure size 432x288 with 1 Axes>"
      ]
     },
     "metadata": {
      "needs_background": "light"
     },
     "output_type": "display_data"
    }
   ],
   "source": [
    "plt.plot(averages, 'kx')\n",
    "plt.plot(statistic,'rx')"
   ]
  },
  {
   "cell_type": "code",
   "execution_count": null,
   "metadata": {},
   "outputs": [],
   "source": []
  }
 ],
 "metadata": {
  "kernelspec": {
   "display_name": "Python 3",
   "language": "python",
   "name": "python3"
  },
  "language_info": {
   "codemirror_mode": {
    "name": "ipython",
    "version": 3
   },
   "file_extension": ".py",
   "mimetype": "text/x-python",
   "name": "python",
   "nbconvert_exporter": "python",
   "pygments_lexer": "ipython3",
   "version": "3.7.6"
  }
 },
 "nbformat": 4,
 "nbformat_minor": 4
}
