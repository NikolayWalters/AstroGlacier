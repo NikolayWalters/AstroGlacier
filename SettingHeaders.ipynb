{
 "cells": [
  {
   "cell_type": "code",
   "execution_count": 1,
   "metadata": {},
   "outputs": [
    {
     "name": "stderr",
     "output_type": "stream",
     "text": [
      "/home/nwal/anaconda3/lib/python3.7/site-packages/pyfits/__init__.py:22: PyFITSDeprecationWarning: PyFITS is deprecated, please use astropy.io.fits\n",
      "  PyFITSDeprecationWarning)  # noqa\n"
     ]
    }
   ],
   "source": [
    "from astropy.io import fits\n",
    "import numpy as np\n",
    "import matplotlib.pyplot as plt\n",
    "plt.rc('xtick',c='w')\n",
    "plt.rc('ytick',c='w')\n",
    "from PyAstronomy import pyasl\n",
    "from astropy.time import Time\n",
    "from astropy import units as u\n",
    "from astropy.modeling import Fittable1DModel, Parameter\n",
    "from astropy.modeling import models, fitting\n",
    "from lmfit import Parameters, minimize, report_fit, Model,fit_report\n",
    "from astropy.time import Time\n",
    "from astropy.coordinates import SkyCoord, EarthLocation\n",
    "from astropy.coordinates import ICRS\n",
    "from pylab import rc\n",
    "from astropy.timeseries import LombScargle"
   ]
  },
  {
   "cell_type": "code",
   "execution_count": 2,
   "metadata": {},
   "outputs": [],
   "source": [
    "def Read_Three_Column_File(file_name):\n",
    "    with open(file_name, 'r') as data:\n",
    "        x = []\n",
    "        y = []\n",
    "        shift = []\n",
    "        for line in data:\n",
    "            p = line.split()\n",
    "            shift.append(float(p[0]))\n",
    "            x.append(float(p[1]))\n",
    "            y.append(float(p[2]))\n",
    "\n",
    "    return x, y,shift\n"
   ]
  },
  {
   "cell_type": "code",
   "execution_count": 16,
   "metadata": {},
   "outputs": [],
   "source": [
    "#isaac\n",
    "#x28Ph, y28Ph,_= Read_Three_Column_File('/home/nwal/Desktop/GD1400/jayCor/28/shiftedAir.txt')\n",
    "x28Ph, y28Ph,_= Read_Three_Column_File('/home/nwal/Desktop/GD1400/jayCor/28/fxcorPhoenixPy.txt')\n",
    "path = '/home/nwal/Desktop/GD1400/oct28/all/proc2/'\n",
    "airmasses = []\n",
    "with open(path+'ToCont') as f:\n",
    "    content = f.readlines()\n",
    "content = [x.strip() for x in content] \n",
    "times = []\n",
    "dateObs28 = []\n",
    "for el in content:\n",
    "    fits_image_filename = path+el\n",
    "    hdul = fits.open(fits_image_filename)\n",
    "    hdr = hdul[0].header\n",
    "    timeHeader = hdr.comments['UTC'][:10]\n",
    "    expTime = hdr['EXPTIME']\n",
    "    date = hdr['DATE-OBS']\n",
    "    dateObs28.append(date)\n",
    "    airmass = hdr['HIERARCH ESO TEL AIRM START']\n",
    "    airmasses.append(airmass)\n",
    "    t = Time(date, format='isot', scale='utc')\n",
    "    t = t + (expTime/2*u.second)\n",
    "    times.append(t.jd)\n",
    "times28 = times\n",
    "dateObs29 = []\n",
    "#x29Ph, y29Ph,_= Read_Three_Column_File('/home/nwal/Desktop/GD1400/jayCor/29/shiftedAir.txt')\n",
    "x29Ph, y29Ph,_= Read_Three_Column_File('/home/nwal/Desktop/GD1400/jayCor/29/fxcorPhoenixPy.txt')\n",
    "path = '/home/nwal/Desktop/GD1400/oct29/all/forProc2/'\n",
    "with open(path+'CleanFrames') as f:\n",
    "    content = f.readlines()\n",
    "content = [x.strip() for x in content] \n",
    "times = []\n",
    "airmasses = []\n",
    "for el in content:\n",
    "    fits_image_filename = path+el\n",
    "    hdul = fits.open(fits_image_filename)\n",
    "    hdr = hdul[0].header\n",
    "    timeHeader = hdr.comments['UTC'][:10]\n",
    "    expTime = hdr['EXPTIME']\n",
    "    date = hdr['DATE-OBS']\n",
    "    dateObs29.append(date)\n",
    "    t = Time(date, format='isot', scale='utc')\n",
    "    airmass = hdr['HIERARCH ESO TEL AIRM START']\n",
    "    airmasses.append(airmass)\n",
    "    t = t + (expTime/2*u.second)\n",
    "    times.append(t.jd)\n",
    "times29 = times"
   ]
  },
  {
   "cell_type": "code",
   "execution_count": null,
   "metadata": {
    "scrolled": true
   },
   "outputs": [],
   "source": []
  },
  {
   "cell_type": "code",
   "execution_count": 12,
   "metadata": {},
   "outputs": [
    {
     "data": {
      "text/plain": [
       "2455498.6071224944"
      ]
     },
     "execution_count": 12,
     "metadata": {},
     "output_type": "execute_result"
    }
   ],
   "source": [
    "times28[0]"
   ]
  },
  {
   "cell_type": "code",
   "execution_count": 17,
   "metadata": {},
   "outputs": [],
   "source": [
    "path = '/home/nwal/Desktop/GD1400/jayCor/28/'\n",
    "with open(path+'cont') as f:\n",
    "    content = f.readlines()\n",
    "content = [x.strip() for x in content]\n",
    "inputNames = content\n",
    "with open(path+'headers') as f:\n",
    "    content = f.readlines()\n",
    "content = [x.strip() for x in content]\n",
    "outputNames = content\n",
    "count = 0\n",
    "for el in inputNames:\n",
    "    fits_image_filename = path+el\n",
    "    with fits.open(fits_image_filename) as hdul:\n",
    "        hdr = hdul[0].header\n",
    "        hdr.set('OBSERVAT', 'esovlt')\n",
    "        hdr.set('RA', '01:47:21.8246239967')\n",
    "        hdr.set('DEC', '-21:56:51.387203270')\n",
    "        hdr.set('UTMIDDLE', times28[count])\n",
    "        hdr.set('EXPTIME', '600')\n",
    "        hdr.set('EPOCH', '2000')\n",
    "        hdr.set('DATE-OBS', dateObs28[count])\n",
    "        outName = path + outputNames[count]\n",
    "        count = count +1\n",
    "        hdul.writeto(outName)\n",
    "\n",
    "with fits.open('/home/nwal/Desktop/GD1400/jayCor/28/PhoenixResampledG.fits') as hdul:\n",
    "    hdr = hdul[0].header\n",
    "    hdr.set('OBSERVAT', 'kpno')\n",
    "    hdr.set('RA', '12:00:00')#'26.8412500')\n",
    "    hdr.set('DEC', '12:00:00')#'-21.9494167')\n",
    "    #hdr.set('UT', '2455498.6071224944')\n",
    "    #hdr.set('UTMIDDLE', '2455498.6101224944')\n",
    "    hdr.set('EXPTIME', '0')\n",
    "    hdr.set('EPOCH', '1993.0')\n",
    "    hdr.set('DATE-OBS', '1993-03-17T04:56:38.0')\n",
    "    hdul.writeto('/home/nwal/Desktop/GD1400/jayCor/28/phoenixHeader.fits')"
   ]
  },
  {
   "cell_type": "code",
   "execution_count": null,
   "metadata": {},
   "outputs": [],
   "source": []
  }
 ],
 "metadata": {
  "kernelspec": {
   "display_name": "Python 3",
   "language": "python",
   "name": "python3"
  },
  "language_info": {
   "codemirror_mode": {
    "name": "ipython",
    "version": 3
   },
   "file_extension": ".py",
   "mimetype": "text/x-python",
   "name": "python",
   "nbconvert_exporter": "python",
   "pygments_lexer": "ipython3",
   "version": "3.7.4"
  }
 },
 "nbformat": 4,
 "nbformat_minor": 2
}
